{
 "cells": [
  {
   "cell_type": "code",
   "execution_count": 13,
   "metadata": {},
   "outputs": [
    {
     "name": "stdout",
     "output_type": "stream",
     "text": [
      "{'Blue', 'Red', 'Green', 'Black'}\n",
      "{'Red', 'Green'}\n",
      "{'Blue'}\n"
     ]
    }
   ],
   "source": [
    "#from sets import Set\n",
    "setA = set(['Red','Blue','Green'])\n",
    "setB =set(['Red','Green','Black'])\n",
    "setC = setA.union(setB)\n",
    "setD = setA.intersection(setB)\n",
    "setE= setA.difference(setB)\n",
    "print (setC)\n",
    "print (setD)\n",
    "print (setE)\n"
   ]
  },
  {
   "cell_type": "code",
   "execution_count": 14,
   "metadata": {},
   "outputs": [
    {
     "data": {
      "text/plain": [
       "[0, 1, 2, 3, 4, 5, 6, 7]"
      ]
     },
     "execution_count": 14,
     "metadata": {},
     "output_type": "execute_result"
    }
   ],
   "source": [
    "listA = [0,1,2,3]\n",
    "listB = [4,5,6,7]\n",
    "listA.extend (listB)\n",
    "listA"
   ]
  },
  {
   "cell_type": "code",
   "execution_count": 15,
   "metadata": {},
   "outputs": [],
   "source": [
    "listA.append(-40)"
   ]
  },
  {
   "cell_type": "code",
   "execution_count": 16,
   "metadata": {},
   "outputs": [
    {
     "data": {
      "text/plain": [
       "[0, 1, 2, 3, 4, 5, 6, 7, -40]"
      ]
     },
     "execution_count": 16,
     "metadata": {},
     "output_type": "execute_result"
    }
   ],
   "source": [
    "listA"
   ]
  },
  {
   "cell_type": "code",
   "execution_count": 7,
   "metadata": {},
   "outputs": [
    {
     "name": "stdout",
     "output_type": "stream",
     "text": [
      "(1, (4, 7), 2, (5, 8), 3, (6, 9))\n",
      "1\n",
      "\t 4\n",
      "\t 7\n",
      "2\n",
      "\t 5\n",
      "\t 8\n",
      "3\n",
      "\t 6\n",
      "\t 9\n"
     ]
    }
   ],
   "source": [
    "myTuple = 1,(4,(7)),2,(5,(8)),3,(6,(9))\n",
    "print (myTuple)\n",
    "for value1 in myTuple:\n",
    "        if type(value1)== int:\n",
    "            print (value1)\n",
    "        else:\n",
    "            for value2 in value1:\n",
    "                if type(value2)== int:\n",
    "                    print (\"\\t\", value2)\n",
    "                else:\n",
    "                    for value3 in value2:\n",
    "                        print (\"\\t\\t\", value3)"
   ]
  },
  {
   "cell_type": "code",
   "execution_count": 10,
   "metadata": {},
   "outputs": [],
   "source": [
    "myTuple2 = myTuple + (10,(11,12))"
   ]
  },
  {
   "cell_type": "code",
   "execution_count": 11,
   "metadata": {},
   "outputs": [
    {
     "name": "stdout",
     "output_type": "stream",
     "text": [
      "(1, (4, 7), 2, (5, 8), 3, (6, 9), 10, (11, 12))\n"
     ]
    }
   ],
   "source": [
    "print (myTuple2)"
   ]
  },
  {
   "cell_type": "code",
   "execution_count": 13,
   "metadata": {},
   "outputs": [
    {
     "name": "stdout",
     "output_type": "stream",
     "text": [
      "b\n",
      "1 \t a\n",
      "2 \t b\n",
      "3 \t c\n",
      "4 \t d\n",
      "c\n",
      "1 \t a\n",
      "2 \t b\n",
      "3 \t c\n",
      "4 \t d\n"
     ]
    }
   ],
   "source": [
    "listA = [1,2,3,4,5]\n",
    "listB = ['a','b','c','d']\n",
    "for value in listB[1:3]:\n",
    "    print (value)\n",
    "    for value1, value2 in zip(listA,listB):\n",
    "        print (value1, \"\\t\", value2)\n"
   ]
  },
  {
   "cell_type": "code",
   "execution_count": null,
   "metadata": {},
   "outputs": [],
   "source": []
  }
 ],
 "metadata": {
  "kernelspec": {
   "display_name": "Python 3",
   "language": "python",
   "name": "python3"
  },
  "language_info": {
   "codemirror_mode": {
    "name": "ipython",
    "version": 3
   },
   "file_extension": ".py",
   "mimetype": "text/x-python",
   "name": "python",
   "nbconvert_exporter": "python",
   "pygments_lexer": "ipython3",
   "version": "3.7.1"
  }
 },
 "nbformat": 4,
 "nbformat_minor": 2
}
